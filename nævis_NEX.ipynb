{
  "cells": [
    {
      "cell_type": "code",
      "execution_count": null,
      "metadata": {
        "id": "lIvrW0AlBC9n"
      },
      "outputs": [],
      "source": [
        "!pip install -q -U google-generativeai\n",
        "\n",
        "import textwrap\n",
        "import google.generativeai as genai\n",
        "\n",
        "from IPython.display import display, Markdown\n",
        "from google.colab import userdata, files\n",
        "\n",
        "GOOGLE_API_KEY=userdata.get('GOOGLE_API_KEY')\n",
        "genai.configure(api_key=GOOGLE_API_KEY)\n",
        "\n",
        "nævis = userdata.get('nævis')\n",
        "End = userdata.get('End')\n",
        "\n",
        "Fan = input('이름을 입력하세요.')\n",
        "\n",
        "model=genai.GenerativeModel(model_name=\"gemini-1.5-flash-002\", system_instruction= nævis + Fan)\n",
        "\n",
        "def to_markdown(text):\n",
        "  text = text.replace('•', ' *')\n",
        "  return Markdown(textwrap.indent(text, '> ', predicate=lambda _: True))"
      ]
    },
    {
      "cell_type": "code",
      "execution_count": null,
      "metadata": {
        "id": "W6IdQIsCD4es"
      },
      "outputs": [],
      "source": [
        "while True:\n",
        "  USER = input()\n",
        "\n",
        "  if USER == 'F':\n",
        "    response = model.generate_content(End)\n",
        "    markdown_text = to_markdown(response.text)\n",
        "    display(markdown_text)\n",
        "    break\n",
        "\n",
        "  else:\n",
        "    response = model.generate_content(USER)\n",
        "    markdown_text = to_markdown(response.text)\n",
        "    display(markdown_text)"
      ]
    }
  ],
  "metadata": {
    "colab": {
      "provenance": [],
      "authorship_tag": "ABX9TyP8Fnjf/one/7CeudK/8pW1"
    },
    "kernelspec": {
      "display_name": "Python 3",
      "name": "python3"
    },
    "language_info": {
      "name": "python"
    }
  },
  "nbformat": 4,
  "nbformat_minor": 0
}