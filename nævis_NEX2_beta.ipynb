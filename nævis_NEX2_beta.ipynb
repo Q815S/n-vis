{
  "cells": [
    {
      "cell_type": "code",
      "execution_count": null,
      "metadata": {
        "id": "lIvrW0AlBC9n"
      },
      "outputs": [],
      "source": [
        "!pip install -q -U google-generativeai\n",
        "\n",
        "import textwrap\n",
        "import google.generativeai as genai\n",
        "\n",
        "from IPython.display import display, Markdown\n",
        "from google.colab import userdata, files\n",
        "\n",
        "GOOGLE_API_KEY=userdata.get('GOOGLE_API_KEY')\n",
        "genai.configure(api_key=GOOGLE_API_KEY)\n",
        "model = genai.GenerativeModel('gemini-1.5-flash-002')\n",
        "\n",
        "character_name = userdata.get('character_name')\n",
        "character_info = userdata.get('character_info')\n",
        "kwangya_info = userdata.get('kwangya_info')\n",
        "done_info = userdata.get('done_info')\n",
        "\n",
        "Fan = input('사용할 이름을 입력하십시오:')\n",
        "\n",
        "def to_markdown(text):\n",
        "  text = text.replace('•', ' *')\n",
        "  return Markdown(textwrap.indent(text, '> ', predicate=lambda _: True))\n",
        "\n",
        "initial_prompt = f\"\"\"\n",
        "이제부터 당신은 {character_name}라는 캐릭터로 대화합니다.\n",
        "{character_name}은 {character_info}입니다.\n",
        "{character_name}의 노래 관련 정보가 필요하다면 'Done'에 대해서는 {done_info}를 참고하세요.\n",
        "광야에 대해서는 {kwangya_info}를 참고하세요.\n",
        "상대방의 이름은 {Fan}이며,2~3줄 이내로 간단하게 답변하세요.\n",
        "\"\"\"\n",
        "response = model.generate_content(initial_prompt)\n",
        "context = initial_prompt"
      ]
    },
    {
      "cell_type": "code",
      "execution_count": null,
      "metadata": {
        "colab": {
          "background_save": true
        },
        "id": "W6IdQIsCD4es"
      },
      "outputs": [],
      "source": [
        "while True:\n",
        "  USER = input()\n",
        "\n",
        "  if USER == 'F':\n",
        "    prompt = userdata.get('End')\n",
        "    response = model.generate_content(prompt)\n",
        "    context += f\"\\n{USER}\\n{response.text}\"\n",
        "    markdown_text = to_markdown(response.text)\n",
        "    display(markdown_text)\n",
        "    break\n",
        "\n",
        "  else:\n",
        "    prompt = f\"{context}\\n{USER} \"\n",
        "    response = model.generate_content(prompt)\n",
        "    context += f\"\\n{USER}\\n{response.text}\"\n",
        "    markdown_text = to_markdown(response.text)\n",
        "    display(markdown_text)"
      ]
    }
  ],
  "metadata": {
    "colab": {
      "provenance": [],
      "authorship_tag": "ABX9TyMFs+d3yKIqBS2ucdwaxFnA"
    },
    "kernelspec": {
      "display_name": "Python 3",
      "name": "python3"
    },
    "language_info": {
      "name": "python"
    }
  },
  "nbformat": 4,
  "nbformat_minor": 0
}