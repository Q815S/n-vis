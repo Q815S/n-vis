{
  "cells": [
    {
      "cell_type": "code",
      "execution_count": null,
      "metadata": {
        "id": "Z3jI6uUG8Cun"
      },
      "outputs": [],
      "source": [
        "!pip install -q -U google-generativeai\n",
        "\n",
        "import textwrap\n",
        "import google.generativeai as genai\n",
        "\n",
        "from IPython.display import display, Markdown\n",
        "from google.colab import userdata\n",
        "\n",
        "GOOGLE_API_KEY=userdata.get('GOOGLE_API_KEY')\n",
        "genai.configure(api_key=GOOGLE_API_KEY)\n",
        "model = genai.GenerativeModel('gemini-1.5-flash-001')\n",
        "\n",
        "character_name = userdata.get('character_name')\n",
        "character_info = userdata.get('character_info')\n",
        "kwangya_info = userdata.get('kwangya_info')\n",
        "\n",
        "def to_markdown(text):\n",
        "  text = text.replace('•', ' *')\n",
        "  return Markdown(textwrap.indent(text, '> ', predicate=lambda _: True))"
      ]
    },
    {
      "cell_type": "code",
      "execution_count": null,
      "metadata": {
        "id": "V-Qqz6UB-Dqd"
      },
      "outputs": [],
      "source": [
        "prompt = f\"\"\"당신은 이제부터 {character_name}입니다. 앞으로 모든 질문에{character_name}이 되어 {character_info}에 기반해 3줄 이내로 답장해야 합니다. 필요 시 {kwangya_info} 참조\"\"\"\n",
        "response = model.generate_content(prompt)\n",
        "\n",
        "while True:\n",
        "  USER = input()\n",
        "\n",
        "  if USER == 'F':\n",
        "    prompt = userdata.get('End')\n",
        "    response = model.generate_content(prompt)\n",
        "    markdown_text = to_markdown(response.text)\n",
        "    display(markdown_text)\n",
        "    break\n",
        "\n",
        "  else:\n",
        "    response = model.generate_content(USER)\n",
        "    markdown_text = to_markdown(response.text)\n",
        "    display(markdown_text)"
      ]
    }
  ],
  "metadata": {
    "colab": {
      "provenance": [],
      "authorship_tag": "ABX9TyNThme9e+VQ4S32daKb0oPh"
    },
    "kernelspec": {
      "display_name": "Python 3",
      "name": "python3"
    },
    "language_info": {
      "name": "python"
    }
  },
  "nbformat": 4,
  "nbformat_minor": 0
}